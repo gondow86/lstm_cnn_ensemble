{
 "cells": [
  {
   "cell_type": "code",
   "execution_count": 6,
   "metadata": {},
   "outputs": [],
   "source": [
    "import torch\n",
    "import torch.nn as nn\n",
    "from torch.utils.data import Dataset\n",
    "import torchvision\n",
    "import torchvision.transforms as transforms\n",
    "import scipy\n",
    "import numpy as np\n",
    "import os\n",
    "import pandas as pd"
   ]
  },
  {
   "cell_type": "code",
   "execution_count": 3,
   "metadata": {},
   "outputs": [],
   "source": [
    "device = torch.device('cuda' if torch.cuda.is_available() else 'cpu')"
   ]
  },
  {
   "cell_type": "code",
   "execution_count": 4,
   "metadata": {},
   "outputs": [],
   "source": [
    "# Hyper parameters\n",
    "num_classes = 10 # とりあえず10人で\n",
    "num_epochs = 30\n",
    "batch_size = 128\n",
    "learning_rate = 0.01\n",
    "\n",
    "input_size = 496 # 500秒を5秒ウィンドウで\n",
    "sequence_length = 1250 # 1セグメントあたりのサンプル数 250Hz * 5s\n",
    "hidden_size = 100 # 論文でいうhidden layerはこれ?\n",
    "num_layers = 2 # Two-layered lstm?"
   ]
  },
  {
   "cell_type": "code",
   "execution_count": null,
   "metadata": {},
   "outputs": [],
   "source": [
    "def down_sample(data):\n",
    "    scipy.decimate()"
   ]
  },
  {
   "cell_type": "code",
   "execution_count": null,
   "metadata": {},
   "outputs": [],
   "source": [
    "class MyDataset(Dataset):\n",
    "    def __init__(self, annotations_csv, data_dir, transform=None, taraget_transform=None) -> None:\n",
    "        super().__init__()\n",
    "        self.person_labels = pd.read_csv(annotations_csv)\n",
    "        self.data_dir = data_dir\n",
    "        self.transform = transform\n",
    "        self.target_transform = taraget_transform\n",
    "    \n",
    "    def __getitem__(\n",
    "\n",
    "    )\n",
    "\n",
    "    def __len__(self):\n",
    "        return len(self.person_labels)"
   ]
  },
  {
   "cell_type": "code",
   "execution_count": null,
   "metadata": {},
   "outputs": [],
   "source": []
  }
 ],
 "metadata": {
  "kernelspec": {
   "display_name": "Python 3.8.9 ('env': venv)",
   "language": "python",
   "name": "python3"
  },
  "language_info": {
   "codemirror_mode": {
    "name": "ipython",
    "version": 3
   },
   "file_extension": ".py",
   "mimetype": "text/x-python",
   "name": "python",
   "nbconvert_exporter": "python",
   "pygments_lexer": "ipython3",
   "version": "3.8.9"
  },
  "orig_nbformat": 4,
  "vscode": {
   "interpreter": {
    "hash": "468342b0452bcdac9012b85f9fef33cba7ec7c6bfcdc6687e07a57027380922e"
   }
  }
 },
 "nbformat": 4,
 "nbformat_minor": 2
}
