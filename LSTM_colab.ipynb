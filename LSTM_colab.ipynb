{
  "cells": [
    {
      "cell_type": "code",
      "execution_count": 29,
      "metadata": {
        "id": "3DZwQgubsMHX"
      },
      "outputs": [],
      "source": [
        "import torch\n",
        "import torch.nn as nn\n",
        "from torch.utils.data import Dataset\n",
        "from torch.utils.data import DataLoader\n",
        "import torchvision\n",
        "import torchvision.transforms as transforms\n",
        "import scipy\n",
        "import numpy as np\n",
        "import os\n",
        "import pandas as pd\n",
        "import matplotlib.pyplot as plt\n",
        "from scipy import signal"
      ]
    },
    {
      "cell_type": "code",
      "execution_count": 30,
      "metadata": {
        "colab": {
          "base_uri": "https://localhost:8080/"
        },
        "id": "PeRqGHktsOBf",
        "outputId": "abb77b0e-3b42-4225-85e2-46eb72917b05"
      },
      "outputs": [
        {
          "name": "stdout",
          "output_type": "stream",
          "text": [
            "cuda\n"
          ]
        }
      ],
      "source": [
        "device = torch.device('cuda' if torch.cuda.is_available() else 'cpu')\n",
        "print(device)"
      ]
    },
    {
      "cell_type": "code",
      "execution_count": 31,
      "metadata": {
        "id": "EAFpvz2TsT8E"
      },
      "outputs": [],
      "source": [
        "# Hyper parameters\n",
        "num_classes = 10 # とりあえず10人で\n",
        "num_epochs = 30\n",
        "# batch_size = 128\n",
        "batch_size = 64\n",
        "learning_rate = 0.01\n",
        "\n",
        "sequence_length = 1250 # 1セグメントあたりのサンプル数 250Hz * 5s\n",
        "input_size = 1 # 特徴量の種類？\n",
        "hidden_size = 100 # 論文でいうhidden layerはこれ?\n",
        "num_layers = 2 # Two-layered lstm?"
      ]
    },
    {
      "cell_type": "code",
      "execution_count": 32,
      "metadata": {
        "colab": {
          "base_uri": "https://localhost:8080/"
        },
        "id": "E7hv5SKasack",
        "outputId": "5e6fce7c-3a3a-4b49-f8cc-8eb70e30aaae"
      },
      "outputs": [
        {
          "name": "stdout",
          "output_type": "stream",
          "text": [
            "/mnt/c/Users/grpro/workspace/grad_thesis/lstm_cnn_ensemble\n",
            "CNN.ipynb   LSTM_colab.ipynb\t README.md  env\n",
            "LSTM.ipynb  LSTM_tutorial.ipynb  data\t    output.png\n"
          ]
        }
      ],
      "source": [
        "!pwd\n",
        "!ls"
      ]
    },
    {
      "cell_type": "code",
      "execution_count": 33,
      "metadata": {
        "id": "_cUKNjIKtDB-"
      },
      "outputs": [],
      "source": [
        "default_sample_rate = 2000\n",
        "down_sample_rate = 250\n",
        "ratio = default_sample_rate // down_sample_rate"
      ]
    },
    {
      "cell_type": "code",
      "execution_count": 34,
      "metadata": {
        "colab": {
          "base_uri": "https://localhost:8080/"
        },
        "id": "5OvebjSOsaYP",
        "outputId": "c68cb6ef-d1dd-40e2-e2b6-4a8a4cbe42c4"
      },
      "outputs": [
        {
          "name": "stdout",
          "output_type": "stream",
          "text": [
            "151899 1215199 168\n",
            "155587 1244699 172\n",
            "150337 1202699 167\n",
            "150768 1206149 167\n",
            "152524 1220199 169\n",
            "152731 1221849 169\n",
            "158731 1269849 176\n",
            "154643 1237149 171\n",
            "162349 1298799 180\n",
            "159781 1278249 177\n"
          ]
        }
      ],
      "source": [
        "# 10人分のdataframeを作る\n",
        "radar_frame_list = []\n",
        "\n",
        "for i in range(1, 11):\n",
        "    wave_dem_2d = []\n",
        "    file_path = \"./data/radar_%02d.csv\" % i\n",
        "    radar_frame = pd.read_csv(file_path)\n",
        "    wave = radar_frame.to_numpy().flatten()\n",
        "    wave_dem = signal.decimate(wave, ratio)\n",
        "    for i in range(len(wave_dem)):\n",
        "      wave_dem_2d.append([wave_dem[i]])\n",
        "    # wave_dem_ts = torch.from_numpy(wave_dem.astype(np.float32)).clone() # tensorにする\n",
        "    print(i, len(wave), len(wave_dem_2d) // 900)\n",
        "\n",
        "    remaining = len(wave_dem_2d)\n",
        "    n = 0\n",
        "    n_stop = 1250\n",
        "    wave_segments = []\n",
        "\n",
        "    while n_stop < len(wave_dem_2d):\n",
        "        n_start = 0 + (1249 - (350 - 1)) * n\n",
        "        n_stop = n_start + 1250\n",
        "        tmp = []\n",
        "        wave_segments.append(wave_dem_2d[n_start:n_stop])\n",
        "        n += 1\n",
        "    \n",
        "    radar_frame_list.append(wave_segments)"
      ]
    },
    {
      "cell_type": "code",
      "execution_count": 35,
      "metadata": {
        "colab": {
          "base_uri": "https://localhost:8080/"
        },
        "id": "anElEn0eejTr",
        "outputId": "b6ca8b12-4079-4c70-9647-f126fc906b25"
      },
      "outputs": [
        {
          "data": {
            "text/plain": [
              "1.938177274754611e-05"
            ]
          },
          "execution_count": 35,
          "metadata": {},
          "output_type": "execute_result"
        }
      ],
      "source": [
        "wave_dem_2d[0][0]"
      ]
    },
    {
      "cell_type": "code",
      "execution_count": 36,
      "metadata": {
        "colab": {
          "base_uri": "https://localhost:8080/"
        },
        "id": "ems1EUFIga7b",
        "outputId": "82458429-97d8-4211-f9cf-682888d4c20e"
      },
      "outputs": [
        {
          "data": {
            "text/plain": [
              "list"
            ]
          },
          "execution_count": 36,
          "metadata": {},
          "output_type": "execute_result"
        }
      ],
      "source": [
        "type(wave_dem_2d) # tensorにはしていない"
      ]
    },
    {
      "cell_type": "code",
      "execution_count": 37,
      "metadata": {
        "colab": {
          "base_uri": "https://localhost:8080/"
        },
        "id": "jnD1kKfnf4is",
        "outputId": "b51fc966-4476-47ae-9c1c-feaf04557ea0"
      },
      "outputs": [
        {
          "data": {
            "text/plain": [
              "1.938177274754611e-05"
            ]
          },
          "execution_count": 37,
          "metadata": {},
          "output_type": "execute_result"
        }
      ],
      "source": [
        "wave_dem[0]"
      ]
    },
    {
      "cell_type": "code",
      "execution_count": 38,
      "metadata": {
        "colab": {
          "base_uri": "https://localhost:8080/"
        },
        "id": "Pic-ZwvTZi8X",
        "outputId": "e9352215-0aac-43ae-989d-76a8b0354912"
      },
      "outputs": [
        {
          "name": "stdout",
          "output_type": "stream",
          "text": [
            "[[1.96265639e-05]\n",
            " [1.98858680e-05]\n",
            " [2.01462431e-05]\n",
            " ...\n",
            " [5.90767715e-06]\n",
            " [5.73961677e-06]\n",
            " [5.57643752e-06]]\n"
          ]
        }
      ],
      "source": [
        "print(radar_frame.to_numpy())"
      ]
    },
    {
      "cell_type": "code",
      "execution_count": 39,
      "metadata": {
        "colab": {
          "base_uri": "https://localhost:8080/"
        },
        "id": "v1irmKjMtgTg",
        "outputId": "39c7fb2a-af6d-423d-a0a7-9d6d34e775ea"
      },
      "outputs": [
        {
          "data": {
            "text/plain": [
              "tensor([ 1,  1,  1,  ..., 10, 10, 10])"
            ]
          },
          "execution_count": 39,
          "metadata": {},
          "output_type": "execute_result"
        }
      ],
      "source": [
        "labels = []\n",
        "for i in range(len(radar_frame_list)):\n",
        "    for j in range(len(radar_frame_list[i])):\n",
        "        labels.append(i + 1)\n",
        "\n",
        "labels_df = pd.Series(labels)\n",
        "torch.tensor(labels_df)"
      ]
    },
    {
      "cell_type": "code",
      "execution_count": 40,
      "metadata": {
        "colab": {
          "base_uri": "https://localhost:8080/"
        },
        "id": "WYkmvxNStn92",
        "outputId": "0ad8d1ff-2f1e-409c-be86-6f17241bd36f"
      },
      "outputs": [
        {
          "name": "stdout",
          "output_type": "stream",
          "text": [
            "1722 482\n",
            "1364 744\n",
            "1192 1232\n",
            "1016 632\n",
            "846 425\n",
            "676 469\n",
            "508 938\n",
            "341 788\n",
            "168 700\n"
          ]
        }
      ],
      "source": [
        "df = pd.DataFrame(radar_frame_list)\n",
        "tmp = df.to_numpy().flatten()\n",
        "df = pd.Series(tmp).dropna()\n",
        "tmp = df.to_numpy().flatten()\n",
        "\n",
        "tmp_labels = labels_df.to_numpy().flatten()\n",
        "for i in reversed(range(len(tmp))):\n",
        "  if len(tmp[i]) != 1250:\n",
        "    print(i, len(tmp[i]))\n",
        "    tmp = np.delete(tmp, i)\n",
        "    tmp_labels = np.delete(tmp_labels, i)\n",
        "\n",
        "df = pd.Series(tmp)\n",
        "labels_df = pd.Series(tmp_labels)"
      ]
    },
    {
      "cell_type": "code",
      "execution_count": 41,
      "metadata": {
        "colab": {
          "base_uri": "https://localhost:8080/"
        },
        "id": "6QJOJGa4ZOAL",
        "outputId": "32087f9f-5c11-42ec-8777-cb8612fa3445"
      },
      "outputs": [
        {
          "data": {
            "text/plain": [
              "(0       [[-0.00010217575366496895], [-9.22608829183728...\n",
              " 1       [[0.00011229699387508095], [0.0001032509100699...\n",
              " 2       [[0.00018580354782126828], [0.0001857031428586...\n",
              " 3       [[2.469195076897992e-05], [1.5866761530307943e...\n",
              " 4       [[-7.67209241147911e-05], [-7.923320450820692e...\n",
              "                               ...                        \n",
              " 1709    [[-1.5671828712846213e-05], [-1.73393999462063...\n",
              " 1710    [[1.5179027283521696e-05], [1.5135722189029168...\n",
              " 1711    [[2.8651546425191015e-05], [2.854097153938563e...\n",
              " 1712    [[-0.00016230754416965637], [-0.00016345281810...\n",
              " 1713    [[3.255477277617704e-05], [3.270253213571334e-...\n",
              " Length: 1714, dtype: object,\n",
              " pandas.core.series.Series,\n",
              " list,\n",
              " list,\n",
              " numpy.float64)"
            ]
          },
          "execution_count": 41,
          "metadata": {},
          "output_type": "execute_result"
        }
      ],
      "source": [
        "df, type(df), type(df[0]), type(df[0][0]), type(df[0][0][0])"
      ]
    },
    {
      "cell_type": "code",
      "execution_count": 42,
      "metadata": {
        "colab": {
          "base_uri": "https://localhost:8080/"
        },
        "id": "ns6jKMK0jlMO",
        "outputId": "2f10620e-152d-4ebc-8f2f-411d062d318d"
      },
      "outputs": [
        {
          "data": {
            "text/plain": [
              "0        1\n",
              "1        1\n",
              "2        1\n",
              "3        1\n",
              "4        1\n",
              "        ..\n",
              "1709    10\n",
              "1710    10\n",
              "1711    10\n",
              "1712    10\n",
              "1713    10\n",
              "Length: 1714, dtype: int64"
            ]
          },
          "execution_count": 42,
          "metadata": {},
          "output_type": "execute_result"
        }
      ],
      "source": [
        "labels_df"
      ]
    },
    {
      "cell_type": "code",
      "execution_count": 43,
      "metadata": {
        "id": "8ALujHuBt48l"
      },
      "outputs": [],
      "source": [
        "class MyDataset(Dataset):\n",
        "    def __init__(self, dataset, labels, root_dir, transform=None) -> None:\n",
        "        # super().__init__()\n",
        "        self.radar_heartbeat = dataset\n",
        "        self.labels = labels\n",
        "        self.root_dir = root_dir\n",
        "        self.transform = transform\n",
        "\n",
        "    \n",
        "    def __getitem__(self, idx):\n",
        "        if torch.is_tensor(idx):\n",
        "          idx = idx.tolist()\n",
        "        # heartbeat_segment = torch.FloatTensor(self.radar_heartbeat[idx])\n",
        "        # subject_label = torch.LongTensor(self.labels[idx])\n",
        "        # if self.transform: # transform適用されず?\n",
        "        # heartbeat_segment = self.transform(self.radar_heartbeat[idx]) # tensorに\n",
        "        onehot_label = torch.eye(num_classes)[self.labels[idx] - 1] # one hot encording\n",
        "        # onehot_label = self.transform(self.labels[idx]) # tensorに\n",
        "\n",
        "        # return heartbeat_segment, subject_label\n",
        "        # return torch.from_numpy(self.radar_heartbeat.to_numpy().copy()), torch.tensor(labels_df)    \n",
        "        # return torch.stack(self.radar_heartbeat.to_numpy().tolist()), torch.tensor(labels_df)    \n",
        "        # return self.radar_heartbeat[idx], labels_df[idx]\n",
        "        return torch.tensor(self.radar_heartbeat[idx]), onehot_label\n",
        "\n",
        "\n",
        "\n",
        "    def __len__(self):\n",
        "        return len(self.radar_heartbeat)"
      ]
    },
    {
      "cell_type": "code",
      "execution_count": 44,
      "metadata": {
        "id": "NZ90ssVrvahI"
      },
      "outputs": [],
      "source": [
        "dataset = MyDataset(df, labels_df, \"./data/\", transform=transforms.ToTensor())"
      ]
    },
    {
      "cell_type": "code",
      "execution_count": 45,
      "metadata": {
        "id": "-MY3ko2llOsV"
      },
      "outputs": [],
      "source": [
        "seg, lab = next(iter(dataset))"
      ]
    },
    {
      "cell_type": "code",
      "execution_count": 46,
      "metadata": {
        "colab": {
          "base_uri": "https://localhost:8080/"
        },
        "id": "zQ24_ehWml26",
        "outputId": "f388dded-0d1c-4362-f2d1-79f179885126"
      },
      "outputs": [
        {
          "data": {
            "text/plain": [
              "(torch.Tensor, 1250, tensor([1., 0., 0., 0., 0., 0., 0., 0., 0., 0.]))"
            ]
          },
          "execution_count": 46,
          "metadata": {},
          "output_type": "execute_result"
        }
      ],
      "source": [
        "type(seg), len(seg), lab"
      ]
    },
    {
      "cell_type": "code",
      "execution_count": 47,
      "metadata": {
        "colab": {
          "base_uri": "https://localhost:8080/"
        },
        "id": "MOtIGfVluDBe",
        "outputId": "e66a3611-44ce-441f-e29d-03a1ec4dedc9"
      },
      "outputs": [
        {
          "name": "stdout",
          "output_type": "stream",
          "text": [
            "full: 1714 -> train: 1371, test: 343\n"
          ]
        }
      ],
      "source": [
        "train_size = int(0.8 * len(df.values))\n",
        "test_size = len(df.values) - train_size\n",
        "train_set, test_set = torch.utils.data.random_split(dataset, [train_size, test_size])\n",
        "print(f\"full: {len(dataset)} -> train: {len(train_set)}, test: {len(test_set)}\")"
      ]
    },
    {
      "cell_type": "code",
      "execution_count": 48,
      "metadata": {
        "id": "KDkUwglxuHy4"
      },
      "outputs": [],
      "source": [
        "train_loader = DataLoader(dataset=train_set, batch_size=batch_size, shuffle=True)\n",
        "test_loader = DataLoader(dataset=test_set, batch_size=batch_size, shuffle=False)"
      ]
    },
    {
      "cell_type": "code",
      "execution_count": 49,
      "metadata": {
        "id": "cEr02Pd1uJya"
      },
      "outputs": [],
      "source": [
        "class LSTM(nn.Module):\n",
        "  def __init__(self, input_size, hidden_size, num_layers, num_classes) -> None:\n",
        "    super().__init__()\n",
        "    self.num_layers = num_layers\n",
        "    self.hidden_size = hidden_size\n",
        "    # self.rnn = nn.RNN(input_size, hidden_size, num_layers, batch_first=True)\n",
        "    self.lstm = nn.LSTM(input_size, hidden_size, num_layers, batch_first=True)\n",
        "\n",
        "    self.fc = nn.Linear(hidden_size, num_classes)\n",
        "\n",
        "  def forward(self, x):\n",
        "    h0 = torch.zeros(self.num_layers, x.size(0), self.hidden_size).to(device)\n",
        "    c0 = torch.zeros(self.num_layers, x.size(0), self.hidden_size).to(device)\n",
        "    # print(x.size(), h0.size(), c0.size())\n",
        "    # out, _ = self.rnn(x, h0)\n",
        "    out, _ = self.lstm(x, (h0, c0))\n",
        "\n",
        "    out = out[:, -1, :]\n",
        "\n",
        "    out = self.fc(out)\n",
        "\n",
        "    return out"
      ]
    },
    {
      "cell_type": "code",
      "execution_count": 50,
      "metadata": {
        "id": "IDJNiVRAuLdH"
      },
      "outputs": [],
      "source": [
        "model = LSTM(input_size, hidden_size, num_layers, num_classes)\n",
        "model = model.to(device)\n",
        "criterion = nn.CrossEntropyLoss()\n",
        "optimizer = torch.optim.Adam(model.parameters(), lr=learning_rate)"
      ]
    },
    {
      "cell_type": "code",
      "execution_count": 53,
      "metadata": {
        "colab": {
          "base_uri": "https://localhost:8080/"
        },
        "id": "EVj9gCQnuMwa",
        "outputId": "2a417c7c-cb4e-43aa-f9f4-ae744ad75253"
      },
      "outputs": [
        {
          "name": "stderr",
          "output_type": "stream",
          "text": [
            "/tmp/ipykernel_1334/2106716574.py:4: UserWarning: To copy construct from a tensor, it is recommended to use sourceTensor.clone().detach() or sourceTensor.clone().detach().requires_grad_(True), rather than torch.tensor(sourceTensor).\n",
            "  signals = torch.tensor(signals)\n"
          ]
        },
        {
          "name": "stdout",
          "output_type": "stream",
          "text": [
            "Epoch [1/`30], Step [22/22], Loss: 2.3133\n",
            "Epoch [2/`30], Step [22/22], Loss: 2.2950\n",
            "Epoch [3/`30], Step [22/22], Loss: 2.3154\n",
            "Epoch [4/`30], Step [22/22], Loss: 2.3129\n",
            "Epoch [5/`30], Step [22/22], Loss: 2.2959\n",
            "Epoch [6/`30], Step [22/22], Loss: 2.2988\n",
            "Epoch [7/`30], Step [22/22], Loss: 2.3042\n",
            "Epoch [8/`30], Step [22/22], Loss: 2.2992\n",
            "Epoch [9/`30], Step [22/22], Loss: 2.2873\n",
            "Epoch [10/`30], Step [22/22], Loss: 2.3072\n",
            "Epoch [11/`30], Step [22/22], Loss: 2.3284\n",
            "Epoch [12/`30], Step [22/22], Loss: 2.3103\n",
            "Epoch [13/`30], Step [22/22], Loss: 2.2951\n",
            "Epoch [14/`30], Step [22/22], Loss: 2.3160\n",
            "Epoch [15/`30], Step [22/22], Loss: 2.3107\n",
            "Epoch [16/`30], Step [22/22], Loss: 2.3052\n",
            "Epoch [17/`30], Step [22/22], Loss: 2.2970\n",
            "Epoch [18/`30], Step [22/22], Loss: 2.2893\n",
            "Epoch [19/`30], Step [22/22], Loss: 2.3189\n",
            "Epoch [20/`30], Step [22/22], Loss: 2.2979\n",
            "Epoch [21/`30], Step [22/22], Loss: 2.3069\n",
            "Epoch [22/`30], Step [22/22], Loss: 2.3047\n",
            "Epoch [23/`30], Step [22/22], Loss: 2.2822\n",
            "Epoch [24/`30], Step [22/22], Loss: 2.3305\n",
            "Epoch [25/`30], Step [22/22], Loss: 2.3032\n",
            "Epoch [26/`30], Step [22/22], Loss: 2.3061\n",
            "Epoch [27/`30], Step [22/22], Loss: 2.3124\n",
            "Epoch [28/`30], Step [22/22], Loss: 2.3064\n",
            "Epoch [29/`30], Step [22/22], Loss: 2.3042\n",
            "Epoch [30/`30], Step [22/22], Loss: 2.3104\n"
          ]
        }
      ],
      "source": [
        "n_total_steps = len(train_loader)\n",
        "for epoch in range(num_epochs):\n",
        "  for i, (signals, labels) in enumerate(train_loader):\n",
        "    signals = torch.tensor(signals)\n",
        "    signals = signals.float()\n",
        "    signals = signals.to(device)\n",
        "    labels = labels.to(device)\n",
        "\n",
        "    # print(signals.size())\n",
        "    outputs = model(signals)\n",
        "    loss = criterion(outputs, labels)\n",
        "\n",
        "    optimizer.zero_grad()\n",
        "    loss.backward()\n",
        "    optimizer.step()\n",
        "\n",
        "  print(f'Epoch [{epoch+1}/`{num_epochs}], Step [{i+1}/{n_total_steps}], Loss: {loss.item():.4f}')"
      ]
    },
    {
      "cell_type": "code",
      "execution_count": null,
      "metadata": {},
      "outputs": [],
      "source": [
        "with torch.no_grad():\n",
        "  n_correct = 0\n",
        "  n_samples = 0\n",
        "  for images, labels in test_loader:\n",
        "    images = images.reshape(-1, sequence_length, input_size).to(device)\n",
        "    labels = labels.to(device)\n",
        "    outputs = model(images)\n",
        "\n",
        "    _, predicted = torch.max(outputs.data, 1) # softmax通してないけどクラス分の出力から最大値選べばOK\n",
        "    n_samples += labels.size(0)\n",
        "    n_correct += (predicted == labels).sum().item()\n",
        "\n",
        "    acc = 100.0 * n_correct / n_samples\n",
        "    print(f'Accuracy of the network on the 10000 test images: {acc} %')"
      ]
    },
    {
      "cell_type": "code",
      "execution_count": 52,
      "metadata": {
        "id": "T4pwpVCqypJ1"
      },
      "outputs": [
        {
          "data": {
            "text/plain": [
              "(torch.Size([27, 10]),\n",
              " tensor([[0., 0., 0., 0., 0., 0., 1., 0., 0., 0.],\n",
              "         [0., 0., 0., 1., 0., 0., 0., 0., 0., 0.],\n",
              "         [0., 0., 0., 0., 0., 0., 1., 0., 0., 0.],\n",
              "         [0., 0., 0., 1., 0., 0., 0., 0., 0., 0.],\n",
              "         [0., 0., 0., 0., 0., 0., 0., 1., 0., 0.],\n",
              "         [0., 0., 0., 0., 0., 0., 0., 1., 0., 0.],\n",
              "         [0., 0., 0., 0., 0., 0., 1., 0., 0., 0.],\n",
              "         [0., 0., 0., 1., 0., 0., 0., 0., 0., 0.],\n",
              "         [0., 0., 0., 0., 0., 0., 1., 0., 0., 0.],\n",
              "         [0., 0., 0., 1., 0., 0., 0., 0., 0., 0.],\n",
              "         [0., 1., 0., 0., 0., 0., 0., 0., 0., 0.],\n",
              "         [0., 0., 0., 0., 0., 0., 0., 1., 0., 0.],\n",
              "         [0., 0., 0., 1., 0., 0., 0., 0., 0., 0.],\n",
              "         [1., 0., 0., 0., 0., 0., 0., 0., 0., 0.],\n",
              "         [0., 0., 0., 0., 0., 0., 1., 0., 0., 0.],\n",
              "         [0., 1., 0., 0., 0., 0., 0., 0., 0., 0.],\n",
              "         [0., 0., 0., 0., 0., 0., 1., 0., 0., 0.],\n",
              "         [0., 0., 0., 0., 0., 0., 1., 0., 0., 0.],\n",
              "         [0., 0., 0., 0., 0., 0., 0., 1., 0., 0.],\n",
              "         [1., 0., 0., 0., 0., 0., 0., 0., 0., 0.],\n",
              "         [0., 0., 0., 0., 0., 0., 1., 0., 0., 0.],\n",
              "         [0., 0., 0., 0., 0., 0., 0., 0., 1., 0.],\n",
              "         [0., 0., 0., 0., 0., 1., 0., 0., 0., 0.],\n",
              "         [0., 0., 1., 0., 0., 0., 0., 0., 0., 0.],\n",
              "         [0., 0., 0., 0., 0., 0., 0., 1., 0., 0.],\n",
              "         [0., 0., 0., 0., 0., 0., 0., 0., 1., 0.],\n",
              "         [0., 0., 0., 1., 0., 0., 0., 0., 0., 0.]], device='cuda:0'))"
            ]
          },
          "execution_count": 52,
          "metadata": {},
          "output_type": "execute_result"
        }
      ],
      "source": [
        "outputs.shape, labels"
      ]
    }
  ],
  "metadata": {
    "accelerator": "GPU",
    "colab": {
      "collapsed_sections": [],
      "provenance": []
    },
    "kernelspec": {
      "display_name": "Python 3.9.5 ('env': venv)",
      "language": "python",
      "name": "python3"
    },
    "language_info": {
      "codemirror_mode": {
        "name": "ipython",
        "version": 3
      },
      "file_extension": ".py",
      "mimetype": "text/x-python",
      "name": "python",
      "nbconvert_exporter": "python",
      "pygments_lexer": "ipython3",
      "version": "3.9.5"
    },
    "vscode": {
      "interpreter": {
        "hash": "509ebe440ff8829e001a14a6a100e0bf6e98d8654d4df1b14b1a4d7c455d9242"
      }
    }
  },
  "nbformat": 4,
  "nbformat_minor": 0
}
